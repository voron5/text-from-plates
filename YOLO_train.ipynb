{
 "cells": [
  {
   "cell_type": "code",
   "execution_count": 1,
   "id": "b91691a5-e89b-49bd-9891-8174f04fe9d7",
   "metadata": {},
   "outputs": [],
   "source": [
    "#pip install ultralytics"
   ]
  },
  {
   "cell_type": "code",
   "execution_count": null,
   "id": "883cb7df-02a0-4069-849b-a9b7bc4af30d",
   "metadata": {},
   "outputs": [],
   "source": [
    "from ultralytics import YOLO"
   ]
  },
  {
   "cell_type": "code",
   "execution_count": null,
   "id": "422fad38-6906-4aab-99cc-6a413696bc89",
   "metadata": {},
   "outputs": [],
   "source": [
    "model = YOLO('yolov8n.pt')\n",
    "\n",
    "result = model.train(\n",
    "    data = '/content/drive/MyDrive/ML/data.yaml', #К сожалению я удалил папку с датасетом\n",
    "    epochs = 40,\n",
    "    batch = 32,\n",
    "    imgsz = 640,\n",
    "    name = 'Car_Numbers_model',\n",
    "    project = 'content/drive/MyDrive',\n",
    "    save_period = 3,\n",
    "    augment = True\n",
    ")"
   ]
  },
  {
   "cell_type": "code",
   "execution_count": null,
   "id": "f6616a6f-db21-4d34-a780-dc4e899beed7",
   "metadata": {},
   "outputs": [],
   "source": []
  }
 ],
 "metadata": {
  "kernelspec": {
   "display_name": "Python 3 (ipykernel)",
   "language": "python",
   "name": "python3"
  },
  "language_info": {
   "codemirror_mode": {
    "name": "ipython",
    "version": 3
   },
   "file_extension": ".py",
   "mimetype": "text/x-python",
   "name": "python",
   "nbconvert_exporter": "python",
   "pygments_lexer": "ipython3",
   "version": "3.11.4"
  }
 },
 "nbformat": 4,
 "nbformat_minor": 5
}
